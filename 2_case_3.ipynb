{
 "cells": [
  {
   "cell_type": "code",
   "execution_count": 23,
   "metadata": {},
   "outputs": [],
   "source": [
    "import numpy as np\n",
    "import base64"
   ]
  },
  {
   "cell_type": "code",
   "execution_count": 26,
   "metadata": {},
   "outputs": [
    {
     "name": "stdout",
     "output_type": "stream",
     "text": [
      " enter ur reference idwqjeqjwkl123\n",
      "b'd3FqZXFqd2tsMTIz'\n"
     ]
    }
   ],
   "source": [
    "flag = False\n",
    "while flag == False:\n",
    "    refId = input(\" enter ur reference id\")\n",
    "    flag = True\n",
    "    if len(refId) != 12 :\n",
    "        flag = False\n",
    "    if refId.isalnum() :\n",
    "        pass\n",
    "    else :\n",
    "        flag = False\n",
    "    if flag == False :\n",
    "        print(\" please enter valid reference id \")\n",
    "\n",
    "refId_encode = base64.b64encode(refId.encode())\n",
    "#refId_decode = base64.b64decode(refId.decode())\n",
    "print(refId_encode)"
   ]
  },
  {
   "cell_type": "code",
   "execution_count": null,
   "metadata": {},
   "outputs": [],
   "source": []
  },
  {
   "cell_type": "code",
   "execution_count": null,
   "metadata": {},
   "outputs": [],
   "source": []
  }
 ],
 "metadata": {
  "kernelspec": {
   "display_name": "Python 3",
   "language": "python",
   "name": "python3"
  },
  "language_info": {
   "codemirror_mode": {
    "name": "ipython",
    "version": 3
   },
   "file_extension": ".py",
   "mimetype": "text/x-python",
   "name": "python",
   "nbconvert_exporter": "python",
   "pygments_lexer": "ipython3",
   "version": "3.7.4"
  }
 },
 "nbformat": 4,
 "nbformat_minor": 2
}
