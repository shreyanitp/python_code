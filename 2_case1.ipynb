{
 "cells": [
  {
   "cell_type": "code",
   "execution_count": null,
   "metadata": {},
   "outputs": [],
   "source": [
    "import numpy as num"
   ]
  },
  {
   "cell_type": "code",
   "execution_count": null,
   "metadata": {},
   "outputs": [],
   "source": [
    "n = input(\"number\")\n",
    "n = int(n)\n",
    "r = int(n)//2\n",
    "# list(range(1,n+1))"
   ]
  },
  {
   "cell_type": "code",
   "execution_count": null,
   "metadata": {},
   "outputs": [],
   "source": [
    "for i in range(1,r+1):\n",
    "    if n%i == 0:\n",
    "        if i%2 == 0:\n",
    "            print(i , \"is even\")\n",
    "        else:\n",
    "            print(i , \"is odd\")\n",
    "if n%2 == 0:\n",
    "    print(n , \"is even\")\n",
    "else:\n",
    "    print(n , \"is odd\")\n",
    "        "
   ]
  },
  {
   "cell_type": "code",
   "execution_count": null,
   "metadata": {},
   "outputs": [],
   "source": [
    "s = input(\"enter\")\n",
    "l = list(s.split(\" \"))\n",
    "l.sort()\n",
    "print(\"sorted list is :\",l)"
   ]
  },
  {
   "cell_type": "code",
   "execution_count": null,
   "metadata": {},
   "outputs": [],
   "source": [
    "n1 = int(input(\"first\"))\n",
    "n2 = int(input(\"second\"))\n",
    "l = []\n",
    "for i in range(n1 , n2+1):\n",
    "#     print(\"no is:\",i)\n",
    "    n = i\n",
    "    flag = False\n",
    "    while n!= 0:\n",
    "        r = n%2\n",
    "        if r == 0:\n",
    "            flag = True\n",
    "        else :\n",
    "            flag = False\n",
    "            break\n",
    "        n = n//10\n",
    "    if flag == True:\n",
    "#         print(i)\n",
    "        l.append(i)\n",
    "# print(\"done\")\n",
    "# for i in range(0,len(l)):\n",
    "l    "
   ]
  },
  {
   "cell_type": "code",
   "execution_count": 1,
   "metadata": {},
   "outputs": [
    {
     "name": "stdout",
     "output_type": "stream",
     "text": [
      "enter : python0352\n",
      "LETTER :  6\n",
      "DIGIT :  4\n"
     ]
    }
   ],
   "source": [
    "s = input(\"enter : \")\n",
    "d = c = 0\n",
    "for i in range(len(s)):\n",
    "    if s[i].isalpha():\n",
    "        c += 1\n",
    "    elif s[i].isnumeric():\n",
    "        d +=1 \n",
    "print( \"LETTER : \" , c )\n",
    "print(\"DIGIT : \" , d)"
   ]
  },
  {
   "cell_type": "code",
   "execution_count": 3,
   "metadata": {},
   "outputs": [],
   "source": [
    "import numpy as np"
   ]
  },
  {
   "cell_type": "code",
   "execution_count": 12,
   "metadata": {},
   "outputs": [
    {
     "name": "stdout",
     "output_type": "stream",
     "text": [
      "enter1122334444332211\n",
      "palindrone\n"
     ]
    }
   ],
   "source": [
    "s = input(\"enter\")\n",
    "s = list(s)\n",
    "l = 0\n",
    "r = len(s)-1\n",
    "out = 'palindrone'\n",
    "while l<r:\n",
    "    if s[l] != s[r]:\n",
    "        out = 'not palindrone'\n",
    "        break\n",
    "    l += 1\n",
    "    r -= 1\n",
    "print(out)"
   ]
  },
  {
   "cell_type": "code",
   "execution_count": null,
   "metadata": {},
   "outputs": [],
   "source": []
  },
  {
   "cell_type": "code",
   "execution_count": null,
   "metadata": {},
   "outputs": [],
   "source": []
  },
  {
   "cell_type": "code",
   "execution_count": null,
   "metadata": {},
   "outputs": [],
   "source": []
  }
 ],
 "metadata": {
  "kernelspec": {
   "display_name": "Python 3",
   "language": "python",
   "name": "python3"
  },
  "language_info": {
   "codemirror_mode": {
    "name": "ipython",
    "version": 3
   },
   "file_extension": ".py",
   "mimetype": "text/x-python",
   "name": "python",
   "nbconvert_exporter": "python",
   "pygments_lexer": "ipython3",
   "version": "3.7.4"
  }
 },
 "nbformat": 4,
 "nbformat_minor": 2
}
