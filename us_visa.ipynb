{
 "cells": [
  {
   "cell_type": "code",
   "execution_count": 2,
   "metadata": {},
   "outputs": [],
   "source": [
    "import pandas as pd\n",
    "import os"
   ]
  },
  {
   "cell_type": "code",
   "execution_count": 1,
   "metadata": {},
   "outputs": [
    {
     "data": {
      "text/plain": [
       "'/Users/surajkumar/Desktop/shreya/project/us_visa'"
      ]
     },
     "execution_count": 1,
     "metadata": {},
     "output_type": "execute_result"
    }
   ],
   "source": [
    "import os\n",
    "os.getcwd()\n",
    "# H1BData = pd.read_csv(\"H1Bdata copy.csv\")"
   ]
  },
  {
   "cell_type": "code",
   "execution_count": 3,
   "metadata": {},
   "outputs": [],
   "source": [
    "s = pd.read_csv('H1Bdata.csv',header=0,encoding = 'unicode_escape')\n",
    "s1 = pd.read_csv('Project1Datanaicscodes.csv',header=0,encoding = 'unicode_escape')\n",
    "s2 = pd.read_csv('Project1Datastatespopulation.csv',header=0,encoding = 'unicode_escape')\n",
    "# s.columns"
   ]
  },
  {
   "cell_type": "markdown",
   "metadata": {},
   "source": [
    "# Ques1\n",
    "What are the top 10 occupations for H1B visas with certified status?"
   ]
  },
  {
   "cell_type": "code",
   "execution_count": 4,
   "metadata": {},
   "outputs": [
    {
     "data": {
      "text/plain": [
       "PROGRAMMER ANALYST          5223\n",
       "SOFTWARE ENGINEER           3116\n",
       "SOFTWARE DEVELOPER          1450\n",
       "SYSTEMS ANALYST             1234\n",
       "SENIOR SOFTWARE ENGINEER    1201\n",
       "COMPUTER PROGRAMMER          888\n",
       "DEVELOPER                    733\n",
       "BUSINESS ANALYST             729\n",
       "COMPUTER SYSTEMS ANALYST     657\n",
       "APPLICATION DEVELOPER        629\n",
       "Name: JOB_TITLE, dtype: int64"
      ]
     },
     "execution_count": 4,
     "metadata": {},
     "output_type": "execute_result"
    }
   ],
   "source": [
    "certi_h1b = s[(s['VISA_CLASS']=='H-1B') & (s['CASE_STATUS']=='CERTIFIED')]\n",
    "certi_h1b['JOB_TITLE'].value_counts().head(10)"
   ]
  },
  {
   "cell_type": "code",
   "execution_count": 6,
   "metadata": {},
   "outputs": [],
   "source": [
    "# certi_h1b.groupby('JOB_TITLE').size()\n",
    "# len(certi_h1b[certi_h1b['JOB_TITLE']=='PROGRAMMER ANALYST'])"
   ]
  },
  {
   "cell_type": "code",
   "execution_count": 6,
   "metadata": {},
   "outputs": [
    {
     "data": {
      "text/plain": [
       "<pandas.core.groupby.generic.DataFrameGroupBy object at 0x11f82d400>"
      ]
     },
     "execution_count": 6,
     "metadata": {},
     "output_type": "execute_result"
    }
   ],
   "source": [
    "certi_h1b = certi_h1b.groupby('JOB_TITLE')\n",
    "len(certi_h1b)\n",
    "certi_h1b\n",
    "# certi_h1b\n",
    "# c.sort_values(['JOB_TITLE'],ascending = 0)"
   ]
  },
  {
   "cell_type": "markdown",
   "metadata": {},
   "source": [
    "# ques2\n",
    "Which company hires more data scientists?"
   ]
  },
  {
   "cell_type": "code",
   "execution_count": 7,
   "metadata": {},
   "outputs": [
    {
     "data": {
      "text/plain": [
       "MICROSOFT CORPORATION    40\n",
       "Name: EMPLOYER_NAME, dtype: int64"
      ]
     },
     "execution_count": 7,
     "metadata": {},
     "output_type": "execute_result"
    }
   ],
   "source": [
    "dataSc = s[s['JOB_TITLE']=='DATA SCIENTIST']\n",
    "dataSc.EMPLOYER_NAME.value_counts().head(1)\n"
   ]
  },
  {
   "cell_type": "markdown",
   "metadata": {},
   "source": [
    "# ques3\n",
    "What is the average salary for data scientists? How it is compared to the mean of applications?\n"
   ]
  },
  {
   "cell_type": "code",
   "execution_count": 37,
   "metadata": {},
   "outputs": [
    {
     "name": "stdout",
     "output_type": "stream",
     "text": [
      "88646.04\n"
     ]
    }
   ],
   "source": [
    "dataSc = s[s['JOB_TITLE']=='DATA SCIENTIST']\n",
    "length = len(dataSc)\n",
    "sum = 0\n",
    "for x in dataSc.PREVAILING_WAGE:\n",
    "    sum += x\n",
    "avg = sum / length\n",
    "print(round(avg,2))"
   ]
  },
  {
   "cell_type": "code",
   "execution_count": 31,
   "metadata": {},
   "outputs": [
    {
     "name": "stdout",
     "output_type": "stream",
     "text": [
      "88646.04\n"
     ]
    }
   ],
   "source": [
    "print(round(dataSc.PREVAILING_WAGE.mean(),2))"
   ]
  },
  {
   "cell_type": "code",
   "execution_count": 38,
   "metadata": {},
   "outputs": [
    {
     "name": "stdout",
     "output_type": "stream",
     "text": [
      "75734.59\n"
     ]
    }
   ],
   "source": [
    "print(round(s.PREVAILING_WAGE.mean(),2))"
   ]
  },
  {
   "cell_type": "code",
   "execution_count": 40,
   "metadata": {},
   "outputs": [
    {
     "data": {
      "text/plain": [
       "12911.46"
      ]
     },
     "execution_count": 40,
     "metadata": {},
     "output_type": "execute_result"
    }
   ],
   "source": [
    "round((dataSc.PREVAILING_WAGE.mean()-s.PREVAILING_WAGE.mean()),2)"
   ]
  },
  {
   "cell_type": "markdown",
   "metadata": {},
   "source": [
    "# Ques4\n",
    "Which state has the higher deny proportionally to application. And proportionally to the population?"
   ]
  },
  {
   "cell_type": "code",
   "execution_count": 182,
   "metadata": {},
   "outputs": [
    {
     "data": {
      "text/plain": [
       "1369"
      ]
     },
     "execution_count": 182,
     "metadata": {},
     "output_type": "execute_result"
    }
   ],
   "source": [
    "withdrawCerti = s[s['CASE_STATUS']=='DENIED']\n",
    "len(withdrawCerti)"
   ]
  },
  {
   "cell_type": "code",
   "execution_count": 187,
   "metadata": {},
   "outputs": [
    {
     "name": "stdout",
     "output_type": "stream",
     "text": [
      "  EMPLOYER_STATE          State  count_x  count_y  proportional%\n",
      "0             MP    Mississippi       17       75          22.67\n",
      "1             HI         Hawaii        9       69          13.04\n",
      "2             MT        Montana        2       17          11.76\n",
      "3             AK         Alaska        1       12           8.33\n",
      "4             NV         Nevada        9      128           7.03\n",
      "5             PR    Puerto Rico        1       17           5.88\n",
      "6             ME          Maine        4       74           5.41\n",
      "7             AL        Alabama        6      127           4.72\n",
      "8             RI   Rhode Island        8      196           4.08\n",
      "9             DE       Delaware       12      297           4.04\n",
      " \n",
      "   EMPLOYER_STATE           State  count_x  Population estimate  propToPopula%\n",
      "9              DE        Delaware       12               952065       0.001260\n",
      "40             NJ      New Jersey       90              8944469       0.001006\n",
      "20             NY        New York      164             19745289       0.000831\n",
      "8              RI    Rhode Island        8              1056426       0.000757\n",
      "34             MA   Massachusetts       48              6811779       0.000705\n",
      "35             WA      Washington       48              7288000       0.000659\n",
      "28             CA      California      257             39250017       0.000655\n",
      "1              HI          Hawaii        9              1428557       0.000630\n",
      "26             PA    Pennsylvania       77             12802503       0.000601\n",
      "0              MP     Mississippi       17              2988726       0.000569\n"
     ]
    }
   ],
   "source": [
    "a = pd.DataFrame((withdrawCerti.EMPLOYER_STATE.value_counts()))\n",
    "b = pd.DataFrame(s.EMPLOYER_STATE.value_counts())\n",
    "a1 = a.reset_index(drop=False)\n",
    "b1 = b.reset_index(drop=False)\n",
    "a1.columns = ['EMPLOYER_STATE','count']\n",
    "b1.columns = ['EMPLOYER_STATE','count']\n",
    "# print(a1)\n",
    "# print(b1)\n",
    "a = pd.DataFrame(a1)\n",
    "b = pd.DataFrame(b1)\n",
    "c = pd.merge(a,b,on='EMPLOYER_STATE',how='inner')\n",
    "c['proportional%'] = round((c['count_x']/c['count_y'])*100,2)\n",
    "c = c.sort_values(['proportional%'],ascending=0)\n",
    "c = pd.merge(c,s2,left_on='EMPLOYER_STATE',right_on='State abbreviation')\n",
    "print(c[['EMPLOYER_STATE','State','count_x','count_y','proportional%']].head(10))\n",
    "c['propToPopula%'] = round((c['count_x']/c['Population estimate'])*100,10)\n",
    "c = c.sort_values(['propToPopula%'],ascending=0)\n",
    "print(\" \")\n",
    "print(c[['EMPLOYER_STATE','State','count_x','Population estimate','propToPopula%']].head(10))"
   ]
  },
  {
   "cell_type": "markdown",
   "metadata": {},
   "source": [
    "# ques5\n",
    "What industries are in the top 5 percentile of applications?"
   ]
  },
  {
   "cell_type": "code",
   "execution_count": 9,
   "metadata": {},
   "outputs": [
    {
     "name": "stdout",
     "output_type": "stream",
     "text": [
      "   NAICS_CODE  count\n",
      "0      541511  31941\n",
      "1       54151   5587\n",
      "2      541512   5311\n",
      "3      611310   5100\n",
      "4        5416   3689\n"
     ]
    }
   ],
   "source": [
    "s_nai = pd.DataFrame((s.NAICS_CODE.value_counts()))\n",
    "# s1_nai = s1.rename(columns={'NAICS Code':'NAICS_CODE'})\n",
    "s_nai = s_nai.reset_index(drop=False)\n",
    "s_nai.columns = ['NAICS_CODE','count']\n",
    "print(s_nai.head(5))\n",
    "s_nai = pd.merge(s_nai,s1,left_on='NAICS_CODE',right_on='NAICS Code',how='inner')\n",
    "# s_nai = s_nai.sort_values(['count'],ascending=0)\n",
    "s_nai = s_nai[['NAICS_CODE','count','NAICS Title']]\n",
    "# s_nai"
   ]
  },
  {
   "cell_type": "markdown",
   "metadata": {},
   "source": [
    "# ques 6\n",
    "Does the month of the application play any role in to denied process? What about decision dates?"
   ]
  },
  {
   "cell_type": "code",
   "execution_count": null,
   "metadata": {},
   "outputs": [],
   "source": []
  },
  {
   "cell_type": "code",
   "execution_count": null,
   "metadata": {},
   "outputs": [],
   "source": []
  },
  {
   "cell_type": "code",
   "execution_count": null,
   "metadata": {},
   "outputs": [],
   "source": []
  },
  {
   "cell_type": "code",
   "execution_count": null,
   "metadata": {},
   "outputs": [],
   "source": []
  },
  {
   "cell_type": "code",
   "execution_count": null,
   "metadata": {},
   "outputs": [],
   "source": [
    "with open(path, 'rb') as f:\n",
    "  contents = f.read()"
   ]
  }
 ],
 "metadata": {
  "kernelspec": {
   "display_name": "Python 3",
   "language": "python",
   "name": "python3"
  },
  "language_info": {
   "codemirror_mode": {
    "name": "ipython",
    "version": 3
   },
   "file_extension": ".py",
   "mimetype": "text/x-python",
   "name": "python",
   "nbconvert_exporter": "python",
   "pygments_lexer": "ipython3",
   "version": "3.7.3"
  }
 },
 "nbformat": 4,
 "nbformat_minor": 2
}
